{
  "cells": [
    {
      "cell_type": "markdown",
      "metadata": {
        "id": "view-in-github",
        "colab_type": "text"
      },
      "source": [
        "<a href=\"https://colab.research.google.com/github/MukeshSiddh/ML-AME/blob/main/Copy_of_Assignment_1A.ipynb\" target=\"_parent\"><img src=\"https://colab.research.google.com/assets/colab-badge.svg\" alt=\"Open In Colab\"/></a>"
      ]
    },
    {
      "cell_type": "markdown",
      "metadata": {
        "id": "FgXaHXB2ACsz"
      },
      "source": [
        "# NumPy Practice\n",
        "\n",
        "This notebook offers a set of exercises for different tasks with NumPy.\n",
        "\n",
        "It should be noted there may be more than one different way to answer a question or complete an exercise.\n",
        "\n",
        "Exercises are based off (and directly taken from) the quick introduction to NumPy notebook.\n",
        "\n",
        "Different tasks will be detailed by comments or text.\n",
        "\n",
        "For further reference and resources, it's advised to check out the [NumPy documentation](https://numpy.org/devdocs/user/index.html).\n",
        "\n",
        "And if you get stuck, try searching for a question in the following format: \"how to do XYZ with numpy\", where XYZ is the function you want to leverage from NumPy."
      ]
    },
    {
      "cell_type": "code",
      "execution_count": null,
      "metadata": {
        "id": "XsOXKIEaACs5"
      },
      "outputs": [],
      "source": [
        "# Import NumPy as its abbreviation 'np'\n",
        "import numpy as np"
      ]
    },
    {
      "cell_type": "code",
      "execution_count": null,
      "metadata": {
        "id": "GMk1F0dpACs7"
      },
      "outputs": [],
      "source": [
        "# Create a 1-dimensional NumPy array using np.array()\n",
        "import numpy as np\n",
        "arr1= np.array([1,2,3,4,5,6,7,8])\n",
        "\n",
        "# Create a 2-dimensional NumPy array using np.array()\n",
        "arr2= np.array([[1,2,3,4],[5,6,7,8]])\n",
        "\n",
        "# Create a 3-dimensional Numpy array using np.array()\n",
        "arr3=arr1.reshape(2,2,2)"
      ]
    },
    {
      "cell_type": "markdown",
      "metadata": {
        "id": "7p8hJRNbACs8"
      },
      "source": [
        "Now we've you've created 3 different arrays, let's find details about them.\n",
        "\n",
        "Find the shape, number of dimensions, data type, size and type of each array."
      ]
    },
    {
      "cell_type": "code",
      "execution_count": null,
      "metadata": {
        "id": "GBn9X0nBACs9",
        "colab": {
          "base_uri": "https://localhost:8080/"
        },
        "outputId": "eb4e335d-7f30-41cd-bc47-99068c486f10"
      },
      "outputs": [
        {
          "output_type": "execute_result",
          "data": {
            "text/plain": [
              "(8,)"
            ]
          },
          "metadata": {},
          "execution_count": 36
        }
      ],
      "source": [
        "# Attributes of 1-dimensional array (shape,\n",
        "# number of dimensions, data type, size and type)\n",
        "arr1.shape"
      ]
    },
    {
      "cell_type": "code",
      "source": [
        "arr1.dtype"
      ],
      "metadata": {
        "colab": {
          "base_uri": "https://localhost:8080/"
        },
        "id": "T1rAqVdBXUWb",
        "outputId": "eddb0e61-254a-4491-eb3d-0e06cee22e13"
      },
      "execution_count": null,
      "outputs": [
        {
          "output_type": "execute_result",
          "data": {
            "text/plain": [
              "dtype('int64')"
            ]
          },
          "metadata": {},
          "execution_count": 37
        }
      ]
    },
    {
      "cell_type": "code",
      "source": [
        "arr1.ndim"
      ],
      "metadata": {
        "colab": {
          "base_uri": "https://localhost:8080/"
        },
        "id": "1MqdwEO6XUD1",
        "outputId": "07d594cc-6b8b-4147-8adb-3d19e170ca48"
      },
      "execution_count": null,
      "outputs": [
        {
          "output_type": "execute_result",
          "data": {
            "text/plain": [
              "1"
            ]
          },
          "metadata": {},
          "execution_count": 38
        }
      ]
    },
    {
      "cell_type": "code",
      "source": [
        "arr1.size"
      ],
      "metadata": {
        "colab": {
          "base_uri": "https://localhost:8080/"
        },
        "id": "W7MlkupnXN74",
        "outputId": "08e34865-c7d6-4759-a254-3eaf39035a93"
      },
      "execution_count": null,
      "outputs": [
        {
          "output_type": "execute_result",
          "data": {
            "text/plain": [
              "8"
            ]
          },
          "metadata": {},
          "execution_count": 39
        }
      ]
    },
    {
      "cell_type": "code",
      "source": [
        "type(arr1)"
      ],
      "metadata": {
        "colab": {
          "base_uri": "https://localhost:8080/"
        },
        "id": "eSNLTRBhXIck",
        "outputId": "2e5dd3e8-2c3a-42ff-b883-4068592dac3e"
      },
      "execution_count": null,
      "outputs": [
        {
          "output_type": "execute_result",
          "data": {
            "text/plain": [
              "numpy.ndarray"
            ]
          },
          "metadata": {},
          "execution_count": 40
        }
      ]
    },
    {
      "cell_type": "code",
      "execution_count": null,
      "metadata": {
        "id": "90KOlEP8ACs9",
        "colab": {
          "base_uri": "https://localhost:8080/"
        },
        "outputId": "6537326c-6f43-4d28-e149-a98ed7f0b206"
      },
      "outputs": [
        {
          "output_type": "execute_result",
          "data": {
            "text/plain": [
              "(2, 4)"
            ]
          },
          "metadata": {},
          "execution_count": 41
        }
      ],
      "source": [
        "# Attributes of 2-dimensional array\n",
        "arr2.shape"
      ]
    },
    {
      "cell_type": "code",
      "source": [
        "arr2.dtype"
      ],
      "metadata": {
        "colab": {
          "base_uri": "https://localhost:8080/"
        },
        "id": "PM_gOOC2XsjK",
        "outputId": "92a0a876-33a4-4bec-80b1-06568b029e53"
      },
      "execution_count": null,
      "outputs": [
        {
          "output_type": "execute_result",
          "data": {
            "text/plain": [
              "dtype('int64')"
            ]
          },
          "metadata": {},
          "execution_count": 42
        }
      ]
    },
    {
      "cell_type": "code",
      "source": [
        "arr2.size"
      ],
      "metadata": {
        "colab": {
          "base_uri": "https://localhost:8080/"
        },
        "id": "WdChtUZ9Xwu6",
        "outputId": "b0d4862d-30db-4f12-82f6-1f1198481dad"
      },
      "execution_count": null,
      "outputs": [
        {
          "output_type": "execute_result",
          "data": {
            "text/plain": [
              "8"
            ]
          },
          "metadata": {},
          "execution_count": 43
        }
      ]
    },
    {
      "cell_type": "code",
      "source": [
        "arr2.ndim"
      ],
      "metadata": {
        "colab": {
          "base_uri": "https://localhost:8080/"
        },
        "id": "F02v704gX3EA",
        "outputId": "a3d886f1-f97b-4e94-ece2-d6e1d5866590"
      },
      "execution_count": null,
      "outputs": [
        {
          "output_type": "execute_result",
          "data": {
            "text/plain": [
              "2"
            ]
          },
          "metadata": {},
          "execution_count": 44
        }
      ]
    },
    {
      "cell_type": "code",
      "source": [
        "type(arr2)"
      ],
      "metadata": {
        "colab": {
          "base_uri": "https://localhost:8080/"
        },
        "id": "9gtRZ4IWX7NC",
        "outputId": "ec667fcb-fb10-4759-f03f-32093c5cada1"
      },
      "execution_count": null,
      "outputs": [
        {
          "output_type": "execute_result",
          "data": {
            "text/plain": [
              "numpy.ndarray"
            ]
          },
          "metadata": {},
          "execution_count": 45
        }
      ]
    },
    {
      "cell_type": "code",
      "execution_count": null,
      "metadata": {
        "id": "J5r4gLtHACs-",
        "colab": {
          "base_uri": "https://localhost:8080/"
        },
        "outputId": "c966c89a-5eeb-45fa-d3e8-c2001f28633e"
      },
      "outputs": [
        {
          "output_type": "execute_result",
          "data": {
            "text/plain": [
              "(2, 2, 2)"
            ]
          },
          "metadata": {},
          "execution_count": 46
        }
      ],
      "source": [
        "# Attributes of 3-dimensional array\n",
        "arr3.shape"
      ]
    },
    {
      "cell_type": "code",
      "source": [
        "arr3.ndim"
      ],
      "metadata": {
        "colab": {
          "base_uri": "https://localhost:8080/"
        },
        "id": "a9zj1WVCYyE7",
        "outputId": "c675252a-b083-443a-a7f5-98ccd4966dc2"
      },
      "execution_count": null,
      "outputs": [
        {
          "output_type": "execute_result",
          "data": {
            "text/plain": [
              "3"
            ]
          },
          "metadata": {},
          "execution_count": 47
        }
      ]
    },
    {
      "cell_type": "code",
      "source": [
        "arr3.dtype"
      ],
      "metadata": {
        "colab": {
          "base_uri": "https://localhost:8080/"
        },
        "id": "GuzWB7cUZB8c",
        "outputId": "de4076d2-d1ca-4253-fb08-d5277ca00ed3"
      },
      "execution_count": null,
      "outputs": [
        {
          "output_type": "execute_result",
          "data": {
            "text/plain": [
              "dtype('int64')"
            ]
          },
          "metadata": {},
          "execution_count": 48
        }
      ]
    },
    {
      "cell_type": "code",
      "source": [
        "arr3.size"
      ],
      "metadata": {
        "colab": {
          "base_uri": "https://localhost:8080/"
        },
        "id": "hBHMrK5LY0qf",
        "outputId": "30bf46a8-4f4c-48ab-ec05-ad0ad0729542"
      },
      "execution_count": null,
      "outputs": [
        {
          "output_type": "execute_result",
          "data": {
            "text/plain": [
              "8"
            ]
          },
          "metadata": {},
          "execution_count": 49
        }
      ]
    },
    {
      "cell_type": "code",
      "source": [
        "type(arr3)"
      ],
      "metadata": {
        "colab": {
          "base_uri": "https://localhost:8080/"
        },
        "id": "a66BwtmbZIyY",
        "outputId": "a6a6fcef-6211-4c18-efa3-ea0bde792295"
      },
      "execution_count": null,
      "outputs": [
        {
          "output_type": "execute_result",
          "data": {
            "text/plain": [
              "numpy.ndarray"
            ]
          },
          "metadata": {},
          "execution_count": 50
        }
      ]
    },
    {
      "cell_type": "code",
      "execution_count": null,
      "metadata": {
        "id": "yllB33ZJACs-",
        "colab": {
          "base_uri": "https://localhost:8080/",
          "height": 300
        },
        "outputId": "173acdcc-f98e-4c62-d391-2abff094dcf0"
      },
      "outputs": [
        {
          "output_type": "execute_result",
          "data": {
            "text/plain": [
              "   0\n",
              "0  1\n",
              "1  2\n",
              "2  3\n",
              "3  4\n",
              "4  5\n",
              "5  6\n",
              "6  7\n",
              "7  8"
            ],
            "text/html": [
              "\n",
              "  <div id=\"df-4bd125c4-46a8-4191-bae4-60176161b65d\">\n",
              "    <div class=\"colab-df-container\">\n",
              "      <div>\n",
              "<style scoped>\n",
              "    .dataframe tbody tr th:only-of-type {\n",
              "        vertical-align: middle;\n",
              "    }\n",
              "\n",
              "    .dataframe tbody tr th {\n",
              "        vertical-align: top;\n",
              "    }\n",
              "\n",
              "    .dataframe thead th {\n",
              "        text-align: right;\n",
              "    }\n",
              "</style>\n",
              "<table border=\"1\" class=\"dataframe\">\n",
              "  <thead>\n",
              "    <tr style=\"text-align: right;\">\n",
              "      <th></th>\n",
              "      <th>0</th>\n",
              "    </tr>\n",
              "  </thead>\n",
              "  <tbody>\n",
              "    <tr>\n",
              "      <th>0</th>\n",
              "      <td>1</td>\n",
              "    </tr>\n",
              "    <tr>\n",
              "      <th>1</th>\n",
              "      <td>2</td>\n",
              "    </tr>\n",
              "    <tr>\n",
              "      <th>2</th>\n",
              "      <td>3</td>\n",
              "    </tr>\n",
              "    <tr>\n",
              "      <th>3</th>\n",
              "      <td>4</td>\n",
              "    </tr>\n",
              "    <tr>\n",
              "      <th>4</th>\n",
              "      <td>5</td>\n",
              "    </tr>\n",
              "    <tr>\n",
              "      <th>5</th>\n",
              "      <td>6</td>\n",
              "    </tr>\n",
              "    <tr>\n",
              "      <th>6</th>\n",
              "      <td>7</td>\n",
              "    </tr>\n",
              "    <tr>\n",
              "      <th>7</th>\n",
              "      <td>8</td>\n",
              "    </tr>\n",
              "  </tbody>\n",
              "</table>\n",
              "</div>\n",
              "      <button class=\"colab-df-convert\" onclick=\"convertToInteractive('df-4bd125c4-46a8-4191-bae4-60176161b65d')\"\n",
              "              title=\"Convert this dataframe to an interactive table.\"\n",
              "              style=\"display:none;\">\n",
              "        \n",
              "  <svg xmlns=\"http://www.w3.org/2000/svg\" height=\"24px\"viewBox=\"0 0 24 24\"\n",
              "       width=\"24px\">\n",
              "    <path d=\"M0 0h24v24H0V0z\" fill=\"none\"/>\n",
              "    <path d=\"M18.56 5.44l.94 2.06.94-2.06 2.06-.94-2.06-.94-.94-2.06-.94 2.06-2.06.94zm-11 1L8.5 8.5l.94-2.06 2.06-.94-2.06-.94L8.5 2.5l-.94 2.06-2.06.94zm10 10l.94 2.06.94-2.06 2.06-.94-2.06-.94-.94-2.06-.94 2.06-2.06.94z\"/><path d=\"M17.41 7.96l-1.37-1.37c-.4-.4-.92-.59-1.43-.59-.52 0-1.04.2-1.43.59L10.3 9.45l-7.72 7.72c-.78.78-.78 2.05 0 2.83L4 21.41c.39.39.9.59 1.41.59.51 0 1.02-.2 1.41-.59l7.78-7.78 2.81-2.81c.8-.78.8-2.07 0-2.86zM5.41 20L4 18.59l7.72-7.72 1.47 1.35L5.41 20z\"/>\n",
              "  </svg>\n",
              "      </button>\n",
              "      \n",
              "  <style>\n",
              "    .colab-df-container {\n",
              "      display:flex;\n",
              "      flex-wrap:wrap;\n",
              "      gap: 12px;\n",
              "    }\n",
              "\n",
              "    .colab-df-convert {\n",
              "      background-color: #E8F0FE;\n",
              "      border: none;\n",
              "      border-radius: 50%;\n",
              "      cursor: pointer;\n",
              "      display: none;\n",
              "      fill: #1967D2;\n",
              "      height: 32px;\n",
              "      padding: 0 0 0 0;\n",
              "      width: 32px;\n",
              "    }\n",
              "\n",
              "    .colab-df-convert:hover {\n",
              "      background-color: #E2EBFA;\n",
              "      box-shadow: 0px 1px 2px rgba(60, 64, 67, 0.3), 0px 1px 3px 1px rgba(60, 64, 67, 0.15);\n",
              "      fill: #174EA6;\n",
              "    }\n",
              "\n",
              "    [theme=dark] .colab-df-convert {\n",
              "      background-color: #3B4455;\n",
              "      fill: #D2E3FC;\n",
              "    }\n",
              "\n",
              "    [theme=dark] .colab-df-convert:hover {\n",
              "      background-color: #434B5C;\n",
              "      box-shadow: 0px 1px 3px 1px rgba(0, 0, 0, 0.15);\n",
              "      filter: drop-shadow(0px 1px 2px rgba(0, 0, 0, 0.3));\n",
              "      fill: #FFFFFF;\n",
              "    }\n",
              "  </style>\n",
              "\n",
              "      <script>\n",
              "        const buttonEl =\n",
              "          document.querySelector('#df-4bd125c4-46a8-4191-bae4-60176161b65d button.colab-df-convert');\n",
              "        buttonEl.style.display =\n",
              "          google.colab.kernel.accessAllowed ? 'block' : 'none';\n",
              "\n",
              "        async function convertToInteractive(key) {\n",
              "          const element = document.querySelector('#df-4bd125c4-46a8-4191-bae4-60176161b65d');\n",
              "          const dataTable =\n",
              "            await google.colab.kernel.invokeFunction('convertToInteractive',\n",
              "                                                     [key], {});\n",
              "          if (!dataTable) return;\n",
              "\n",
              "          const docLinkHtml = 'Like what you see? Visit the ' +\n",
              "            '<a target=\"_blank\" href=https://colab.research.google.com/notebooks/data_table.ipynb>data table notebook</a>'\n",
              "            + ' to learn more about interactive tables.';\n",
              "          element.innerHTML = '';\n",
              "          dataTable['output_type'] = 'display_data';\n",
              "          await google.colab.output.renderOutput(dataTable, element);\n",
              "          const docLink = document.createElement('div');\n",
              "          docLink.innerHTML = docLinkHtml;\n",
              "          element.appendChild(docLink);\n",
              "        }\n",
              "      </script>\n",
              "    </div>\n",
              "  </div>\n",
              "  "
            ]
          },
          "metadata": {},
          "execution_count": 52
        }
      ],
      "source": [
        "# Import pandas and create a DataFrame out of one\n",
        "# of the arrays you've created\n",
        "import pandas as pd\n",
        "df=pd.DataFrame(arr1)\n",
        "df"
      ]
    },
    {
      "cell_type": "code",
      "execution_count": null,
      "metadata": {
        "id": "7nA_mF0KACs_",
        "colab": {
          "base_uri": "https://localhost:8080/"
        },
        "outputId": "9e4f0242-cb2f-4b6d-a13b-c72075f63b99"
      },
      "outputs": [
        {
          "output_type": "execute_result",
          "data": {
            "text/plain": [
              "array([[1, 1],\n",
              "       [1, 1],\n",
              "       [1, 1],\n",
              "       [1, 1],\n",
              "       [1, 1],\n",
              "       [1, 1],\n",
              "       [1, 1],\n",
              "       [1, 1],\n",
              "       [1, 1],\n",
              "       [1, 1]])"
            ]
          },
          "metadata": {},
          "execution_count": 64
        }
      ],
      "source": [
        "# Create an array of shape (10, 2) with only ones\n",
        "from numpy import random\n",
        "arr=random.choice([1],size=(10,2))\n",
        "arr"
      ]
    },
    {
      "cell_type": "code",
      "execution_count": null,
      "metadata": {
        "id": "PXmSuiXIACtA",
        "colab": {
          "base_uri": "https://localhost:8080/"
        },
        "outputId": "c8f79363-f086-4c49-8e73-7c7fbbb8c918"
      },
      "outputs": [
        {
          "output_type": "execute_result",
          "data": {
            "text/plain": [
              "array([[[0, 0, 0],\n",
              "        [0, 0, 0]],\n",
              "\n",
              "       [[0, 0, 0],\n",
              "        [0, 0, 0]],\n",
              "\n",
              "       [[0, 0, 0],\n",
              "        [0, 0, 0]],\n",
              "\n",
              "       [[0, 0, 0],\n",
              "        [0, 0, 0]],\n",
              "\n",
              "       [[0, 0, 0],\n",
              "        [0, 0, 0]],\n",
              "\n",
              "       [[0, 0, 0],\n",
              "        [0, 0, 0]],\n",
              "\n",
              "       [[0, 0, 0],\n",
              "        [0, 0, 0]]])"
            ]
          },
          "metadata": {},
          "execution_count": 72
        }
      ],
      "source": [
        "# Create an array of shape (7, 2, 3) of only zeros\n",
        "import numpy as np\n",
        "ar=np.zeros((7, 2, 3),dtype=np.int64)\n",
        "ar"
      ]
    },
    {
      "cell_type": "code",
      "execution_count": null,
      "metadata": {
        "id": "1USNlEqDACtA",
        "colab": {
          "base_uri": "https://localhost:8080/"
        },
        "outputId": "db8d15ee-bbcc-4c26-92ac-d18d73ae657d"
      },
      "outputs": [
        {
          "output_type": "stream",
          "name": "stdout",
          "text": [
            "[ 0  3  6  9 12 15 18 21 24 27 30 33 36 39 42 45 48 51 54 57 60 63 66 69\n",
            " 72 75 78 81 84 87 90 93 96 99]\n"
          ]
        }
      ],
      "source": [
        "# Create an array within a range of 0 and 100 with step 3\n",
        "print(np.arange(0,100,3))"
      ]
    },
    {
      "cell_type": "code",
      "execution_count": null,
      "metadata": {
        "id": "Gy_sxEtmACtA",
        "colab": {
          "base_uri": "https://localhost:8080/"
        },
        "outputId": "9eded123-f570-4ab2-ae48-d6869ea4e222"
      },
      "outputs": [
        {
          "output_type": "execute_result",
          "data": {
            "text/plain": [
              "array([[7, 2],\n",
              "       [6, 6],\n",
              "       [7, 3],\n",
              "       [3, 3],\n",
              "       [5, 9],\n",
              "       [6, 3],\n",
              "       [9, 0]])"
            ]
          },
          "metadata": {},
          "execution_count": 78
        }
      ],
      "source": [
        "# Create a random array with numbers between 0 and 10 of size (7, 2)\n",
        "a=random.randint(10,size=(7,2))\n",
        "a"
      ]
    },
    {
      "cell_type": "code",
      "execution_count": null,
      "metadata": {
        "id": "HgFVWiS4ACtB",
        "colab": {
          "base_uri": "https://localhost:8080/"
        },
        "outputId": "799e7309-081a-485d-c57c-294799c70e77"
      },
      "outputs": [
        {
          "output_type": "execute_result",
          "data": {
            "text/plain": [
              "array([[0.67834282, 0.21191725, 0.50463072, 0.97901457, 0.18686303],\n",
              "       [0.81803594, 0.05907703, 0.28851504, 0.7173205 , 0.64408647],\n",
              "       [0.61407635, 0.15833793, 0.62361596, 0.30756059, 0.43809128]])"
            ]
          },
          "metadata": {},
          "execution_count": 79
        }
      ],
      "source": [
        "# Create a random array of floats between 0 & 1 of shape (3, 5)\n",
        "random.rand(3,5)"
      ]
    },
    {
      "cell_type": "code",
      "execution_count": null,
      "metadata": {
        "id": "mwdh0jtcACtB",
        "colab": {
          "base_uri": "https://localhost:8080/"
        },
        "outputId": "d023f34f-7efc-4fbe-f6fb-5aa647b213bb"
      },
      "outputs": [
        {
          "output_type": "execute_result",
          "data": {
            "text/plain": [
              "array([[9, 4, 0, 1, 9, 0],\n",
              "       [1, 8, 9, 0, 8, 6],\n",
              "       [4, 3, 0, 4, 6, 8],\n",
              "       [1, 8, 4, 1, 3, 6]])"
            ]
          },
          "metadata": {},
          "execution_count": 92
        }
      ],
      "source": [
        "# Set the random seed to 42\n",
        "random.seed(42)\n",
        "\n",
        "# Create a random array of numbers between 0 & 10 of size (4, 6)\n",
        "random.randint(10,size=(4,6))"
      ]
    },
    {
      "cell_type": "markdown",
      "metadata": {
        "id": "yqcDjgWvACtB"
      },
      "source": [
        "Run the cell above again, what happens?\n",
        "We get same array every time.\n",
        "\n",
        "Are the numbers in the array different or the same? Why do think this is?\n",
        "Yes,The seed() method is used to initialize the random number generator."
      ]
    },
    {
      "cell_type": "code",
      "execution_count": null,
      "metadata": {
        "id": "Id3zn6IIACtC",
        "colab": {
          "base_uri": "https://localhost:8080/"
        },
        "outputId": "44e1a4ac-c679-4fe8-9972-c66bcce35c88"
      },
      "outputs": [
        {
          "output_type": "execute_result",
          "data": {
            "text/plain": [
              "array([[6, 2, 9, 1, 6, 9, 6],\n",
              "       [8, 9, 6, 9, 2, 6, 2],\n",
              "       [5, 8, 8, 8, 8, 7, 1]])"
            ]
          },
          "metadata": {},
          "execution_count": 102
        }
      ],
      "source": [
        "# Create an array of random numbers between 1 & 10 of size (3, 7)\n",
        "# and save it to a variable\n",
        "rar=random.randint(1,10, size=(3,7))\n",
        "rar\n",
        "\n",
        "# Find the unique numbers in the array you just created\n",
        "#np.unique(rar)"
      ]
    },
    {
      "cell_type": "code",
      "execution_count": null,
      "metadata": {
        "id": "Jr0MGF5WACtC",
        "colab": {
          "base_uri": "https://localhost:8080/"
        },
        "outputId": "09a73200-add6-4db7-8c94-5bb66be8ba6e"
      },
      "outputs": [
        {
          "output_type": "execute_result",
          "data": {
            "text/plain": [
              "6"
            ]
          },
          "metadata": {},
          "execution_count": 103
        }
      ],
      "source": [
        "# Find the 0'th index of the latest array you created\n",
        "rar[0][0]"
      ]
    },
    {
      "cell_type": "code",
      "execution_count": null,
      "metadata": {
        "id": "J3iS3fiyACtC",
        "colab": {
          "base_uri": "https://localhost:8080/"
        },
        "outputId": "314a413a-3034-4240-993f-4d043459df54"
      },
      "outputs": [
        {
          "output_type": "execute_result",
          "data": {
            "text/plain": [
              "array([[6, 2, 9, 1, 6, 9, 6],\n",
              "       [8, 9, 6, 9, 2, 6, 2]])"
            ]
          },
          "metadata": {},
          "execution_count": 104
        }
      ],
      "source": [
        "# Get the first 2 rows of latest array you created\n",
        "x=rar[0:2,0:7]\n",
        "x"
      ]
    },
    {
      "cell_type": "code",
      "execution_count": null,
      "metadata": {
        "id": "zUKkExTrACtC",
        "colab": {
          "base_uri": "https://localhost:8080/"
        },
        "outputId": "720727ae-656a-4105-8596-186593d27659"
      },
      "outputs": [
        {
          "output_type": "execute_result",
          "data": {
            "text/plain": [
              "array([[6, 2],\n",
              "       [8, 9]])"
            ]
          },
          "metadata": {},
          "execution_count": 105
        }
      ],
      "source": [
        "# Get the first 2 values of the first 2 rows of the latest array\n",
        "rar[0:2,0:2]"
      ]
    },
    {
      "cell_type": "code",
      "execution_count": null,
      "metadata": {
        "id": "tedh9e9nACtD",
        "colab": {
          "base_uri": "https://localhost:8080/"
        },
        "outputId": "aa7982e3-72af-46f0-abb7-ed55253fd6ea"
      },
      "outputs": [
        {
          "output_type": "execute_result",
          "data": {
            "text/plain": [
              "array([[4, 6, 4, 9, 8],\n",
              "       [0, 7, 1, 7, 1],\n",
              "       [1, 5, 5, 0, 8]])"
            ]
          },
          "metadata": {},
          "execution_count": 110
        }
      ],
      "source": [
        "# Create a random array of numbers between 0 & 10 and an array of ones\n",
        "# both of size (3, 5), save them both to variables\n",
        "arrr=random.randint(10,size=(3,5))\n",
        "arro= np.ones((3,5))\n",
        "arrr"
      ]
    },
    {
      "cell_type": "code",
      "execution_count": null,
      "metadata": {
        "id": "Bui1Tmo3ACtD",
        "colab": {
          "base_uri": "https://localhost:8080/"
        },
        "outputId": "3cd7d823-b60a-4014-8504-242885af8108"
      },
      "outputs": [
        {
          "output_type": "execute_result",
          "data": {
            "text/plain": [
              "array([[ 5.,  7.,  5., 10.,  9.],\n",
              "       [ 1.,  8.,  2.,  8.,  2.],\n",
              "       [ 2.,  6.,  6.,  1.,  9.]])"
            ]
          },
          "metadata": {},
          "execution_count": 111
        }
      ],
      "source": [
        "# Add the two arrays together\n",
        "arrr+arro"
      ]
    },
    {
      "cell_type": "code",
      "execution_count": null,
      "metadata": {
        "id": "CtzeqRwEACtD"
      },
      "outputs": [],
      "source": [
        "# Create another array of ones of shape (5, 3)\n",
        "arro1=np.ones((5,3))"
      ]
    },
    {
      "cell_type": "code",
      "execution_count": null,
      "metadata": {
        "id": "uzl0f5fUACtD",
        "colab": {
          "base_uri": "https://localhost:8080/",
          "height": 182
        },
        "outputId": "5546792f-27f3-49d1-ab62-8f258e9d76b5"
      },
      "outputs": [
        {
          "output_type": "error",
          "ename": "ValueError",
          "evalue": "ignored",
          "traceback": [
            "\u001b[0;31m---------------------------------------------------------------------------\u001b[0m",
            "\u001b[0;31mValueError\u001b[0m                                Traceback (most recent call last)",
            "\u001b[0;32m<ipython-input-113-0c15eae06603>\u001b[0m in \u001b[0;36m<module>\u001b[0;34m\u001b[0m\n\u001b[1;32m      1\u001b[0m \u001b[0;31m# Try add the array of ones and the other most recent array together\u001b[0m\u001b[0;34m\u001b[0m\u001b[0;34m\u001b[0m\u001b[0;34m\u001b[0m\u001b[0m\n\u001b[0;32m----> 2\u001b[0;31m \u001b[0marro\u001b[0m\u001b[0;34m+\u001b[0m\u001b[0marro1\u001b[0m\u001b[0;34m\u001b[0m\u001b[0;34m\u001b[0m\u001b[0m\n\u001b[0m",
            "\u001b[0;31mValueError\u001b[0m: operands could not be broadcast together with shapes (3,5) (5,3) "
          ]
        }
      ],
      "source": [
        "# Try add the array of ones and the other most recent array together\n",
        "arro+arro1"
      ]
    },
    {
      "cell_type": "markdown",
      "metadata": {
        "id": "9ZogUP2XACtE"
      },
      "source": [
        "When you try the last cell, it produces an error. Why do think this is?\n",
        "size are different\n",
        "\n",
        "How would you fix it?"
      ]
    },
    {
      "cell_type": "code",
      "execution_count": null,
      "metadata": {
        "id": "7XCnsBzPACtE"
      },
      "outputs": [],
      "source": [
        "# Create another array of ones of shape (3, 5)\n",
        "arro2=np.ones((3,5))"
      ]
    },
    {
      "cell_type": "code",
      "execution_count": null,
      "metadata": {
        "id": "WCdBN0QQACtE",
        "colab": {
          "base_uri": "https://localhost:8080/"
        },
        "outputId": "31ca0426-283a-4c98-c528-34a49cc45fc9"
      },
      "outputs": [
        {
          "output_type": "execute_result",
          "data": {
            "text/plain": [
              "array([[0., 0., 0., 0., 0.],\n",
              "       [0., 0., 0., 0., 0.],\n",
              "       [0., 0., 0., 0., 0.]])"
            ]
          },
          "metadata": {},
          "execution_count": 116
        }
      ],
      "source": [
        "# Subtract the new array of ones from the other most recent array\n",
        "arro2-arro"
      ]
    },
    {
      "cell_type": "code",
      "execution_count": null,
      "metadata": {
        "id": "IuYgO27AACtE",
        "colab": {
          "base_uri": "https://localhost:8080/"
        },
        "outputId": "81ee3c47-e1c5-41de-c7b1-f56f424faef3"
      },
      "outputs": [
        {
          "output_type": "execute_result",
          "data": {
            "text/plain": [
              "array([[4., 6., 4., 9., 8.],\n",
              "       [0., 7., 1., 7., 1.],\n",
              "       [1., 5., 5., 0., 8.]])"
            ]
          },
          "metadata": {},
          "execution_count": 117
        }
      ],
      "source": [
        "# Multiply the ones array with the latest array\n",
        "arrr*arro"
      ]
    },
    {
      "cell_type": "code",
      "execution_count": null,
      "metadata": {
        "id": "Cu05xcCOACtF",
        "colab": {
          "base_uri": "https://localhost:8080/"
        },
        "outputId": "b4e03609-4515-4b0c-f205-f99188c204f3"
      },
      "outputs": [
        {
          "output_type": "execute_result",
          "data": {
            "text/plain": [
              "array([[16, 36, 16, 81, 64],\n",
              "       [ 0, 49,  1, 49,  1],\n",
              "       [ 1, 25, 25,  0, 64]])"
            ]
          },
          "metadata": {},
          "execution_count": 118
        }
      ],
      "source": [
        "# Take the latest array to the power of 2 using '**'\n",
        "arrr**2"
      ]
    },
    {
      "cell_type": "code",
      "execution_count": null,
      "metadata": {
        "id": "yiTwmy25ACtF",
        "colab": {
          "base_uri": "https://localhost:8080/"
        },
        "outputId": "2d6c6479-fd93-470d-a561-9e5b52bd85c9"
      },
      "outputs": [
        {
          "output_type": "execute_result",
          "data": {
            "text/plain": [
              "array([[16, 36, 16, 81, 64],\n",
              "       [ 0, 49,  1, 49,  1],\n",
              "       [ 1, 25, 25,  0, 64]])"
            ]
          },
          "metadata": {},
          "execution_count": 120
        }
      ],
      "source": [
        "# Do the same thing with np.square()\n",
        "arrl=np.square(arrr)\n",
        "arrl"
      ]
    },
    {
      "cell_type": "code",
      "execution_count": null,
      "metadata": {
        "id": "RI42VHzUACtG",
        "colab": {
          "base_uri": "https://localhost:8080/"
        },
        "outputId": "03e963a0-baf9-4e11-b23b-ed8d71200345"
      },
      "outputs": [
        {
          "output_type": "execute_result",
          "data": {
            "text/plain": [
              "28.533333333333335"
            ]
          },
          "metadata": {},
          "execution_count": 121
        }
      ],
      "source": [
        "# Find the mean of the latest array using np.mean()\n",
        "np.mean(arrl)"
      ]
    },
    {
      "cell_type": "code",
      "execution_count": null,
      "metadata": {
        "id": "BG-fHiP-ACtG",
        "colab": {
          "base_uri": "https://localhost:8080/"
        },
        "outputId": "f091257d-02ff-4492-fd7b-cd4b428a8095"
      },
      "outputs": [
        {
          "output_type": "execute_result",
          "data": {
            "text/plain": [
              "81"
            ]
          },
          "metadata": {},
          "execution_count": 122
        }
      ],
      "source": [
        "# Find the maximum of the latest array using np.max()\n",
        "np.max(arrl)"
      ]
    },
    {
      "cell_type": "code",
      "execution_count": null,
      "metadata": {
        "id": "p6e4gkFeACtG",
        "colab": {
          "base_uri": "https://localhost:8080/"
        },
        "outputId": "cb41ddfb-78c1-4490-eb90-64e04bf26ca9"
      },
      "outputs": [
        {
          "output_type": "execute_result",
          "data": {
            "text/plain": [
              "0"
            ]
          },
          "metadata": {},
          "execution_count": 123
        }
      ],
      "source": [
        "# Find the minimum of the latest array using np.min()\n",
        "np.min(arrl)"
      ]
    },
    {
      "cell_type": "code",
      "execution_count": null,
      "metadata": {
        "id": "4fenCCh3ACtI",
        "colab": {
          "base_uri": "https://localhost:8080/"
        },
        "outputId": "bab743d8-9820-4de4-ec24-32db4201cfef"
      },
      "outputs": [
        {
          "output_type": "execute_result",
          "data": {
            "text/plain": [
              "26.33594923715912"
            ]
          },
          "metadata": {},
          "execution_count": 124
        }
      ],
      "source": [
        "# Find the standard deviation of the latest array\n",
        "np.std(arrl)"
      ]
    },
    {
      "cell_type": "code",
      "execution_count": null,
      "metadata": {
        "id": "bbWu9_6sACtI",
        "colab": {
          "base_uri": "https://localhost:8080/"
        },
        "outputId": "ba91ece6-70cd-4524-dd4a-cb77a0f2f3ab"
      },
      "outputs": [
        {
          "output_type": "execute_result",
          "data": {
            "text/plain": [
              "693.5822222222221"
            ]
          },
          "metadata": {},
          "execution_count": 125
        }
      ],
      "source": [
        "# Find the variance of the latest array\n",
        "np.var(arrl)"
      ]
    },
    {
      "cell_type": "code",
      "execution_count": null,
      "metadata": {
        "id": "bW_BoHz-ACtJ",
        "colab": {
          "base_uri": "https://localhost:8080/"
        },
        "outputId": "fd7741ff-aa32-41a9-a603-1ff40b4edc59"
      },
      "outputs": [
        {
          "output_type": "execute_result",
          "data": {
            "text/plain": [
              "array([[[16],\n",
              "        [36],\n",
              "        [16],\n",
              "        [81],\n",
              "        [64]],\n",
              "\n",
              "       [[ 0],\n",
              "        [49],\n",
              "        [ 1],\n",
              "        [49],\n",
              "        [ 1]],\n",
              "\n",
              "       [[ 1],\n",
              "        [25],\n",
              "        [25],\n",
              "        [ 0],\n",
              "        [64]]])"
            ]
          },
          "metadata": {},
          "execution_count": 126
        }
      ],
      "source": [
        "# Reshape the latest array to (3, 5, 1)\n",
        "arrl.reshape(3,5,1)"
      ]
    },
    {
      "cell_type": "code",
      "execution_count": null,
      "metadata": {
        "id": "vsaDmfWDACtK",
        "colab": {
          "base_uri": "https://localhost:8080/"
        },
        "outputId": "447a1e41-0b23-43d0-c030-d1ad468aa00e"
      },
      "outputs": [
        {
          "output_type": "execute_result",
          "data": {
            "text/plain": [
              "array([[16,  0,  1],\n",
              "       [36, 49, 25],\n",
              "       [16,  1, 25],\n",
              "       [81, 49,  0],\n",
              "       [64,  1, 64]])"
            ]
          },
          "metadata": {},
          "execution_count": 127
        }
      ],
      "source": [
        "# Transpose the latest array\n",
        "np.transpose(arrl)"
      ]
    },
    {
      "cell_type": "markdown",
      "metadata": {
        "id": "IhWJ4WS1ACtK"
      },
      "source": [
        "What does the transpose do?"
      ]
    },
    {
      "cell_type": "code",
      "execution_count": null,
      "metadata": {
        "id": "hKVUkk4dACtL",
        "colab": {
          "base_uri": "https://localhost:8080/"
        },
        "outputId": "c67a7269-82db-4300-c75d-c193946da39d"
      },
      "outputs": [
        {
          "output_type": "execute_result",
          "data": {
            "text/plain": [
              "array([[3, 6],\n",
              "       [0, 0],\n",
              "       [6, 5]])"
            ]
          },
          "metadata": {},
          "execution_count": 130
        }
      ],
      "source": [
        "# Create two arrays of random integers between 0 to 10\n",
        "# one of size (3, 3) the other of size (3, 2)\n",
        "a1=random.randint(10,size=(3,3))\n",
        "a2=random.randint(10,size=(3,2))\n",
        "a2"
      ]
    },
    {
      "cell_type": "code",
      "execution_count": null,
      "metadata": {
        "id": "YBgckmJnACtL",
        "colab": {
          "base_uri": "https://localhost:8080/"
        },
        "outputId": "1beb750a-b6ce-4c80-bc0e-e90ff9944cf2"
      },
      "outputs": [
        {
          "output_type": "execute_result",
          "data": {
            "text/plain": [
              "array([[15, 23],\n",
              "       [42, 49],\n",
              "       [ 6,  5]])"
            ]
          },
          "metadata": {},
          "execution_count": 132
        }
      ],
      "source": [
        "# Perform a dot product on the two newest arrays you created\n",
        "np.dot(a1,a2)"
      ]
    },
    {
      "cell_type": "code",
      "execution_count": null,
      "metadata": {
        "id": "6Q_LzNzdACtL"
      },
      "outputs": [],
      "source": [
        "# Create two arrays of random integers between 0 to 10\n",
        "# both of size (4, 3)\n",
        "a3=random.randint(10,size=(4,3))\n",
        "a4=random.randint(10,size=(4,3))"
      ]
    },
    {
      "cell_type": "code",
      "execution_count": null,
      "metadata": {
        "id": "E6SI3FJfACtL",
        "colab": {
          "base_uri": "https://localhost:8080/",
          "height": 217
        },
        "outputId": "a922001a-fd8d-46ec-b1cf-3e8e4782f61a"
      },
      "outputs": [
        {
          "output_type": "error",
          "ename": "ValueError",
          "evalue": "ignored",
          "traceback": [
            "\u001b[0;31m---------------------------------------------------------------------------\u001b[0m",
            "\u001b[0;31mValueError\u001b[0m                                Traceback (most recent call last)",
            "\u001b[0;32m<ipython-input-135-360688785031>\u001b[0m in \u001b[0;36m<module>\u001b[0;34m\u001b[0m\n\u001b[1;32m      1\u001b[0m \u001b[0;31m# Perform a dot product on the two newest arrays you created\u001b[0m\u001b[0;34m\u001b[0m\u001b[0;34m\u001b[0m\u001b[0;34m\u001b[0m\u001b[0m\n\u001b[0;32m----> 2\u001b[0;31m \u001b[0mnp\u001b[0m\u001b[0;34m.\u001b[0m\u001b[0mdot\u001b[0m\u001b[0;34m(\u001b[0m\u001b[0ma3\u001b[0m\u001b[0;34m,\u001b[0m\u001b[0ma4\u001b[0m\u001b[0;34m)\u001b[0m\u001b[0;34m\u001b[0m\u001b[0;34m\u001b[0m\u001b[0m\n\u001b[0m",
            "\u001b[0;32m<__array_function__ internals>\u001b[0m in \u001b[0;36mdot\u001b[0;34m(*args, **kwargs)\u001b[0m\n",
            "\u001b[0;31mValueError\u001b[0m: shapes (4,3) and (4,3) not aligned: 3 (dim 1) != 4 (dim 0)"
          ]
        }
      ],
      "source": [
        "# Perform a dot product on the two newest arrays you created\n",
        "np.dot(a3,a4)"
      ]
    },
    {
      "cell_type": "markdown",
      "metadata": {
        "id": "JotqSwEaACtL"
      },
      "source": [
        "It doesn't work. How would you fix it?\n",
        "tranpose one of them\n"
      ]
    },
    {
      "cell_type": "code",
      "execution_count": null,
      "metadata": {
        "id": "9TBCUke8ACtL",
        "colab": {
          "base_uri": "https://localhost:8080/"
        },
        "outputId": "6fe76e89-daee-429e-8de5-18adf942305d"
      },
      "outputs": [
        {
          "output_type": "execute_result",
          "data": {
            "text/plain": [
              "array([[ 45,  90,  90,  81],\n",
              "       [116, 138, 184, 117],\n",
              "       [ 28,  30,  30,  30],\n",
              "       [ 97,  93,  99,  93]])"
            ]
          },
          "metadata": {},
          "execution_count": 137
        }
      ],
      "source": [
        "# Take the latest two arrays, perform a transpose on one of them and then perform\n",
        "# a dot product on them both\n",
        "a5=np.transpose(a4)\n",
        "np.dot(a3,a5)"
      ]
    },
    {
      "cell_type": "code",
      "execution_count": null,
      "metadata": {
        "id": "m_xKyt56ACtM"
      },
      "outputs": [],
      "source": [
        "# Create two arrays of random integers between 0 & 10 of the same shape\n",
        "# and save them to variables\n",
        "a3=random.randint(10,size=(4,3))\n",
        "a4=random.randint(10,size=(4,3))"
      ]
    },
    {
      "cell_type": "code",
      "execution_count": null,
      "metadata": {
        "id": "6X26tgYwACtM",
        "colab": {
          "base_uri": "https://localhost:8080/"
        },
        "outputId": "249b0329-bec4-49b9-970e-191e518d7ecf"
      },
      "outputs": [
        {
          "output_type": "execute_result",
          "data": {
            "text/plain": [
              "array([[False, False, False],\n",
              "       [False,  True, False],\n",
              "       [ True, False, False],\n",
              "       [ True,  True,  True]])"
            ]
          },
          "metadata": {},
          "execution_count": 139
        }
      ],
      "source": [
        "# Compare the two arrays with '>'\n",
        "a3>a4"
      ]
    },
    {
      "cell_type": "markdown",
      "metadata": {
        "id": "9rcNmAusACtM"
      },
      "source": [
        "What happens when you compare the arrays with `>`?"
      ]
    },
    {
      "cell_type": "code",
      "execution_count": null,
      "metadata": {
        "id": "sCqARkcMACtM",
        "colab": {
          "base_uri": "https://localhost:8080/"
        },
        "outputId": "85e13391-fe8f-4861-b7d9-9476800a73fc"
      },
      "outputs": [
        {
          "output_type": "execute_result",
          "data": {
            "text/plain": [
              "array([[ True, False, False],\n",
              "       [False,  True, False],\n",
              "       [ True, False, False],\n",
              "       [ True,  True,  True]])"
            ]
          },
          "metadata": {},
          "execution_count": 140
        }
      ],
      "source": [
        "# Compare the two arrays with '>='\n",
        "a3>=a4"
      ]
    },
    {
      "cell_type": "code",
      "execution_count": null,
      "metadata": {
        "id": "GVjs5U_5ACtM",
        "colab": {
          "base_uri": "https://localhost:8080/"
        },
        "outputId": "f1cbaea2-5a7f-4414-98ca-0a899cdcf8f7"
      },
      "outputs": [
        {
          "output_type": "execute_result",
          "data": {
            "text/plain": [
              "array([[False, False, False],\n",
              "       [False,  True, False],\n",
              "       [ True, False, False],\n",
              "       [False,  True, False]])"
            ]
          },
          "metadata": {},
          "execution_count": 141
        }
      ],
      "source": [
        "# Find which elements of the first array are greater than 7\n",
        "a3>7"
      ]
    },
    {
      "cell_type": "code",
      "execution_count": null,
      "metadata": {
        "id": "CFVYeteGACtM",
        "colab": {
          "base_uri": "https://localhost:8080/"
        },
        "outputId": "c7486769-3dd4-4acc-ee49-1568c1d02e4e"
      },
      "outputs": [
        {
          "output_type": "execute_result",
          "data": {
            "text/plain": [
              "array([[ True, False, False],\n",
              "       [False, False, False],\n",
              "       [False, False, False],\n",
              "       [False, False, False]])"
            ]
          },
          "metadata": {},
          "execution_count": 142
        }
      ],
      "source": [
        "# Which parts of each array are equal? (try using '==')\n",
        "a3==a4"
      ]
    },
    {
      "cell_type": "code",
      "execution_count": null,
      "metadata": {
        "id": "20IrUaKFACtM",
        "colab": {
          "base_uri": "https://localhost:8080/"
        },
        "outputId": "ca3b9d18-0f9a-47d0-e855-e41ea9c9d4de"
      },
      "outputs": [
        {
          "output_type": "execute_result",
          "data": {
            "text/plain": [
              "array([[0, 0, 1],\n",
              "       [1, 4, 9],\n",
              "       [0, 1, 9],\n",
              "       [3, 7, 9]])"
            ]
          },
          "metadata": {},
          "execution_count": 143
        }
      ],
      "source": [
        "# Sort one of the arrays you just created in ascending order\n",
        "np.sort(a3)"
      ]
    },
    {
      "cell_type": "code",
      "execution_count": null,
      "metadata": {
        "id": "XFpFJXMtACtN",
        "colab": {
          "base_uri": "https://localhost:8080/"
        },
        "outputId": "37a51905-626b-4a98-84ff-00dd059b04c1"
      },
      "outputs": [
        {
          "output_type": "execute_result",
          "data": {
            "text/plain": [
              "array([[0, 2, 1],\n",
              "       [0, 2, 1],\n",
              "       [1, 2, 0],\n",
              "       [2, 0, 1]])"
            ]
          },
          "metadata": {},
          "execution_count": 144
        }
      ],
      "source": [
        "# Sort the indexes of one of the arrays you just created\n",
        "np.argsort(a3)"
      ]
    },
    {
      "cell_type": "code",
      "execution_count": null,
      "metadata": {
        "id": "RwEMZqkKACtN",
        "colab": {
          "base_uri": "https://localhost:8080/"
        },
        "outputId": "c9a43f7a-03d1-438e-d735-6db155dca666"
      },
      "outputs": [
        {
          "output_type": "execute_result",
          "data": {
            "text/plain": [
              "4"
            ]
          },
          "metadata": {},
          "execution_count": 146
        }
      ],
      "source": [
        "# Find the index with the maximum value in one of the arrays you've created\n",
        "np.argmax(a3)"
      ]
    },
    {
      "cell_type": "code",
      "execution_count": null,
      "metadata": {
        "id": "9mX9S_SYACtN",
        "colab": {
          "base_uri": "https://localhost:8080/"
        },
        "outputId": "8c535e1d-a9a2-436d-e5ff-d5bc63369efb"
      },
      "outputs": [
        {
          "output_type": "execute_result",
          "data": {
            "text/plain": [
              "0"
            ]
          },
          "metadata": {},
          "execution_count": 147
        }
      ],
      "source": [
        "# Find the index with the minimum value in one of the arrays you've created\n",
        "np.argmin(a3)"
      ]
    },
    {
      "cell_type": "code",
      "execution_count": null,
      "metadata": {
        "id": "UjBoiMfpACtN",
        "colab": {
          "base_uri": "https://localhost:8080/"
        },
        "outputId": "6c5445b8-d77a-4145-9a6e-245e09b375b6"
      },
      "outputs": [
        {
          "output_type": "execute_result",
          "data": {
            "text/plain": [
              "array([1, 1, 0, 1])"
            ]
          },
          "metadata": {},
          "execution_count": 148
        }
      ],
      "source": [
        "# Find the indexes with the maximum values down the 1st axis (axis=1)\n",
        "# of one of the arrays you created\n",
        "np.argmax(a3,axis=1)"
      ]
    },
    {
      "cell_type": "code",
      "execution_count": null,
      "metadata": {
        "id": "efRmG1aSACtN",
        "colab": {
          "base_uri": "https://localhost:8080/"
        },
        "outputId": "64d96645-e662-4488-f962-c9debbda9225"
      },
      "outputs": [
        {
          "output_type": "execute_result",
          "data": {
            "text/plain": [
              "array([0, 2, 0])"
            ]
          },
          "metadata": {},
          "execution_count": 150
        }
      ],
      "source": [
        "# Find the indexes with the minimum values across the 0th axis (axis=0)\n",
        "# of one of the arrays you created\n",
        "np.argmin(a3,axis=0)"
      ]
    },
    {
      "cell_type": "code",
      "execution_count": null,
      "metadata": {
        "id": "Y4nTKUMCACtN",
        "colab": {
          "base_uri": "https://localhost:8080/"
        },
        "outputId": "3288974e-7456-4a4a-ba03-dda8ba86c2fd"
      },
      "outputs": [
        {
          "output_type": "execute_result",
          "data": {
            "text/plain": [
              "array([[ 0.56682536, -1.34028558,  1.18058023],\n",
              "       [-0.51458875,  1.12954814,  0.44856744],\n",
              "       [-1.01042473, -0.95004281,  0.63256036]])"
            ]
          },
          "metadata": {},
          "execution_count": 151
        }
      ],
      "source": [
        "# Create an array of normally distributed random numbers\n",
        "random.normal(size=(3,3))"
      ]
    },
    {
      "cell_type": "code",
      "execution_count": null,
      "metadata": {
        "id": "KXi5FyCKACtN",
        "colab": {
          "base_uri": "https://localhost:8080/"
        },
        "outputId": "f20d8a80-f251-4429-a523-4e7e3065fcbf"
      },
      "outputs": [
        {
          "output_type": "execute_result",
          "data": {
            "text/plain": [
              "array([  1.,  12.,  23.,  34.,  45.,  56.,  67.,  78.,  89., 100.])"
            ]
          },
          "metadata": {},
          "execution_count": 154
        }
      ],
      "source": [
        "# Create an array with 10 evenly spaced numbers between 1 and 100\n",
        "np.linspace(1,100,10)"
      ]
    },
    {
      "cell_type": "markdown",
      "metadata": {
        "id": "_D1fowA_ACtO"
      },
      "source": [
        "## Extensions\n",
        "\n",
        "For more exercises, check out the [NumPy quickstart tutorial](https://numpy.org/doc/stable/user/quickstart.html). A good practice would be to read through it and for the parts you find interesting, add them into the end of this notebook.\n",
        "\n",
        "Pay particular attention to the section on broadcasting. And most importantly, get hands-on with the code as much as possible. If in dobut, run the code, see what it does.\n",
        "\n",
        "The next place you could go is the [Stack Overflow page for the top questions and answers for NumPy](https://stackoverflow.com/questions/tagged/numpy?sort=MostVotes&edited=true). Often, you'll find some of the most common and useful NumPy functions here. Don't forget to play around with the filters! You'll likely find something helpful here.\n",
        "\n",
        "Finally, as always, remember, the best way to learn something new is to try it. And try it relentlessly. If you get interested in some kind of NumPy function, asking yourself, \"I wonder if NumPy could do that?\", go and find out."
      ]
    }
  ],
  "metadata": {
    "kernelspec": {
      "display_name": "Python 3",
      "language": "python",
      "name": "python3"
    },
    "language_info": {
      "codemirror_mode": {
        "name": "ipython",
        "version": 3
      },
      "file_extension": ".py",
      "mimetype": "text/x-python",
      "name": "python",
      "nbconvert_exporter": "python",
      "pygments_lexer": "ipython3",
      "version": "3.8.3"
    },
    "colab": {
      "provenance": [],
      "include_colab_link": true
    }
  },
  "nbformat": 4,
  "nbformat_minor": 0
}